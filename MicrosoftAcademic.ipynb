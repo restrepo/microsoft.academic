{
  "nbformat": 4,
  "nbformat_minor": 0,
  "metadata": {
    "kernelspec": {
      "display_name": "Python 3",
      "language": "python",
      "name": "python3"
    },
    "language_info": {
      "codemirror_mode": {
        "name": "ipython",
        "version": 3
      },
      "file_extension": ".py",
      "mimetype": "text/x-python",
      "name": "python",
      "nbconvert_exporter": "python",
      "pygments_lexer": "ipython3",
      "version": "3.5.3"
    },
    "latex_envs": {
      "LaTeX_envs_menu_present": true,
      "autoclose": false,
      "autocomplete": true,
      "bibliofile": "biblio.bib",
      "cite_by": "apalike",
      "current_citInitial": 1,
      "eqLabelWithNumbers": true,
      "eqNumInitial": 1,
      "hotkeys": {
        "equation": "Ctrl-E",
        "itemize": "Ctrl-I"
      },
      "labels_anchors": false,
      "latex_user_defs": false,
      "report_style_numbering": false,
      "user_envs_cfg": false
    },
    "colab": {
      "name": "MicrosoftAcademic.ipynb",
      "provenance": [],
      "include_colab_link": true
    }
  },
  "cells": [
    {
      "cell_type": "markdown",
      "metadata": {
        "id": "view-in-github",
        "colab_type": "text"
      },
      "source": [
        "<a href=\"https://colab.research.google.com/github/restrepo/microsoft.academic/blob/master/MicrosoftAcademic.ipynb\" target=\"_parent\"><img src=\"https://colab.research.google.com/assets/colab-badge.svg\" alt=\"Open In Colab\"/></a>"
      ]
    },
    {
      "cell_type": "markdown",
      "metadata": {
        "id": "y5OYOqMi1s9Y",
        "colab_type": "text"
      },
      "source": [
        "# Microsoft academic API"
      ]
    },
    {
      "cell_type": "code",
      "metadata": {
        "id": "dYoqM5B01s9a",
        "colab_type": "code",
        "colab": {}
      },
      "source": [
        "import requests\n",
        "import pandas as pd\n",
        "import getpass\n",
        "\n",
        "def get_query(expr,headers,\n",
        "              url='https://api.labs.cognitive.microsoft.com/academic/v1.0',\n",
        "              attributes=\"Id,Ti,AA.AuN,E,AA.AuId\",\n",
        "              model=\"latest\",\n",
        "              count=100):\n",
        "    return requests.get(\n",
        "       \"{}/evaluate?expr={}&attributes={}&model={}&count={}\".format(\n",
        "        url,expr,attributes,model,count),headers=headers)"
      ],
      "execution_count": 0,
      "outputs": []
    },
    {
      "cell_type": "code",
      "metadata": {
        "id": "qUZsz0oj43Xl",
        "colab_type": "code",
        "colab": {
          "base_uri": "https://localhost:8080/",
          "height": 35
        },
        "outputId": "536216bd-85bc-4bc7-f41e-74f654a59114"
      },
      "source": [
        "'{}'.format(100)"
      ],
      "execution_count": 15,
      "outputs": [
        {
          "output_type": "execute_result",
          "data": {
            "text/plain": [
              "'100'"
            ]
          },
          "metadata": {
            "tags": []
          },
          "execution_count": 15
        }
      ]
    },
    {
      "cell_type": "markdown",
      "metadata": {
        "id": "jc7xeYZl1s9e",
        "colab_type": "text"
      },
      "source": [
        "## By author\n",
        "See: https://stackoverflow.com/a/56313385/2268280\n",
        "\n",
        "Notice the author name has to be in lowercase. <!--a0b4184dcd024090905c5e659ae3f57d-->"
      ]
    },
    {
      "cell_type": "code",
      "metadata": {
        "id": "45ExCUWG1s9f",
        "colab_type": "code",
        "colab": {
          "base_uri": "https://localhost:8080/",
          "height": 35
        },
        "outputId": "dfc1f375-7b73-4e59-a0aa-2feedcf6348d"
      },
      "source": [
        "key=getpass.getpass('API KEY:')"
      ],
      "execution_count": 2,
      "outputs": [
        {
          "output_type": "stream",
          "text": [
            "API KEY:··········\n"
          ],
          "name": "stdout"
        }
      ]
    },
    {
      "cell_type": "code",
      "metadata": {
        "id": "0f9fH1hu1s9j",
        "colab_type": "code",
        "colab": {}
      },
      "source": [
        "headers = {\n",
        "    # Request headers\n",
        "    'Ocp-Apim-Subscription-Key': key,\n",
        "}"
      ],
      "execution_count": 0,
      "outputs": []
    },
    {
      "cell_type": "code",
      "metadata": {
        "id": "IkGL87661s9o",
        "colab_type": "code",
        "colab": {
          "base_uri": "https://localhost:8080/",
          "height": 1000
        },
        "outputId": "012bce15-99ad-4327-fea6-29c62d09aeef"
      },
      "source": [
        "expr=\"Composite(AA.AuN=='diego restrepo')\" #must be in lowercase!\n",
        "r=get_query(expr,headers)\n",
        "pd.DataFrame(r.json())['entities'].loc[0]"
      ],
      "execution_count": 18,
      "outputs": [
        {
          "output_type": "execute_result",
          "data": {
            "text/plain": [
              "{'AA': [{'AuId': 2059928040, 'AuN': 'regan zane'},\n",
              "  {'AuId': 2169908048, 'AuN': 'zoya popovic'},\n",
              "  {'AuId': 2162383647, 'AuN': 'andrew sharp'},\n",
              "  {'AuId': 2110103959, 'AuN': 'diego restrepo'}],\n",
              " 'D': '2006-10-23',\n",
              " 'DN': 'Systems and methods for receiving and managing power in wireless devices',\n",
              " 'E': '{\"DN\":\"Systems and methods for receiving and managing power in wireless devices\",\"PR\":[1946234591,1943779733,1942907069,1921420136,1913068190,1892630210,1878309728,1855976111,1852708506,1850993511,1785369456,1711441070,1592823121,1582146746,1568109496,1551290223,1523428978,1519407428,1494741381,960296097],\"IA\":{\"IndexLength\":142,\"InvertedIndex\":{\"Exemplary\":[0,51],\"systems\":[1,52],\"and\":[2,53,75,93],\"methods\":[3,54],\"are\":[4,55],\"provided\":[5,56],\"for\":[6,57],\"collecting/harvesting\":[7],\"direct\":[8],\"current\":[9],\"(DC)\":[10],\"power\":[11,15,23,27,42,49,73,118,133],\"received\":[12],\"from\":[13,135],\"a\":[14,20,26,32,45,72,76,112,130],\"source(s).\":[16],\"The\":[17,80,117],\"system\":[18,65],\"comprises\":[19,25,66],\"controlled\":[21],\"impedance\":[22],\"controller\":[24,119],\"converter\":[28],\"configured\":[29,99,121],\"to\":[30,37,100,122,128],\"present\":[31],\"positive\":[33],\"equivalent\":[34],\"resistive\":[35],\"load\":[36],\"the\":[38,87,94,103,124,136],\"at\":[39,67,88,104,137],\"least\":[40,68,89,105,138],\"one\":[41,110],\"source\":[43],\"over\":[44],\"range\":[46],\"of\":[47,111,114],\"input\":[48],\"levels.\":[50],\"collecting\":[58],\"radio\":[59],\"frequency\":[60],\"(RF)\":[61],\"power.\":[62],\"An\":[63],\"exemplary\":[64],\"two\":[69,90,106,139],\"rectenna\":[70,91,107,140],\"elements,\":[71],\"controller,\":[74],\"DC\":[77,81,95,125],\"combining\":[78,82,96,126],\"circuit.\":[79],\"circuit\":[83,97,127],\"is\":[84,98,120],\"associated\":[85],\"with\":[86],\"elements\":[92,108],\"dynamically\":[101],\"combine\":[102],\"in\":[109],\"plurality\":[113],\"series/parallel\":[115],\"configurations.\":[116],\"control\":[123],\"achieve\":[129],\"desired\":[131],\"overall\":[132],\"output\":[134],\"elements.\":[141]}},\"S\":[{\"Ty\":999,\"U\":\"http://www.freepatentsonline.com/EP1949309.html\"},{\"Ty\":999,\"U\":\"https://lens.org/074-827-948-874-539\"},{\"Ty\":1,\"U\":\"http://www.freepatentsonline.com/7956572.html\"},{\"Ty\":1,\"U\":\"https://patents.google.com/patent/US20090200985A1/en\"}],\"ANF\":[{\"FN\":\"Regan\",\"LN\":\"Zane\",\"S\":1},{\"FN\":\"Zoya\",\"LN\":\"Popovic\",\"S\":2},{\"FN\":\"Andrew\",\"LN\":\"Sharp\",\"S\":3},{\"FN\":\"Diego\",\"LN\":\"Restrepo\",\"S\":4}]}',\n",
              " 'IA': {'IndexLength': 142,\n",
              "  'InvertedIndex': {'(DC)': [10],\n",
              "   '(RF)': [61],\n",
              "   'An': [63],\n",
              "   'DC': [77, 81, 95, 125],\n",
              "   'Exemplary': [0, 51],\n",
              "   'The': [17, 80, 117],\n",
              "   'a': [14, 20, 26, 32, 45, 72, 76, 112, 130],\n",
              "   'achieve': [129],\n",
              "   'and': [2, 53, 75, 93],\n",
              "   'are': [4, 55],\n",
              "   'associated': [85],\n",
              "   'at': [39, 67, 88, 104, 137],\n",
              "   'circuit': [83, 97, 127],\n",
              "   'circuit.': [79],\n",
              "   'collecting': [58],\n",
              "   'collecting/harvesting': [7],\n",
              "   'combine': [102],\n",
              "   'combining': [78, 82, 96, 126],\n",
              "   'comprises': [19, 25, 66],\n",
              "   'configurations.': [116],\n",
              "   'configured': [29, 99, 121],\n",
              "   'control': [123],\n",
              "   'controlled': [21],\n",
              "   'controller': [24, 119],\n",
              "   'controller,': [74],\n",
              "   'converter': [28],\n",
              "   'current': [9],\n",
              "   'desired': [131],\n",
              "   'direct': [8],\n",
              "   'dynamically': [101],\n",
              "   'elements': [92, 108],\n",
              "   'elements,': [71],\n",
              "   'elements.': [141],\n",
              "   'equivalent': [34],\n",
              "   'exemplary': [64],\n",
              "   'for': [6, 57],\n",
              "   'frequency': [60],\n",
              "   'from': [13, 135],\n",
              "   'impedance': [22],\n",
              "   'in': [109],\n",
              "   'input': [48],\n",
              "   'is': [84, 98, 120],\n",
              "   'least': [40, 68, 89, 105, 138],\n",
              "   'levels.': [50],\n",
              "   'load': [36],\n",
              "   'methods': [3, 54],\n",
              "   'of': [47, 111, 114],\n",
              "   'one': [41, 110],\n",
              "   'output': [134],\n",
              "   'over': [44],\n",
              "   'overall': [132],\n",
              "   'plurality': [113],\n",
              "   'positive': [33],\n",
              "   'power': [11, 15, 23, 27, 42, 49, 73, 118, 133],\n",
              "   'power.': [62],\n",
              "   'present': [31],\n",
              "   'provided': [5, 56],\n",
              "   'radio': [59],\n",
              "   'range': [46],\n",
              "   'received': [12],\n",
              "   'rectenna': [70, 91, 107, 140],\n",
              "   'resistive': [35],\n",
              "   'series/parallel': [115],\n",
              "   'source': [43],\n",
              "   'source(s).': [16],\n",
              "   'system': [18, 65],\n",
              "   'systems': [1, 52],\n",
              "   'the': [38, 87, 94, 103, 124, 136],\n",
              "   'to': [30, 37, 100, 122, 128],\n",
              "   'two': [69, 90, 106, 139],\n",
              "   'with': [86]}},\n",
              " 'Id': 1786502805,\n",
              " 'S': [{'Ty': 999, 'U': 'http://www.freepatentsonline.com/EP1949309.html'},\n",
              "  {'Ty': 999, 'U': 'https://lens.org/074-827-948-874-539'},\n",
              "  {'Ty': 1, 'U': 'http://www.freepatentsonline.com/7956572.html'},\n",
              "  {'Ty': 1, 'U': 'https://patents.google.com/patent/US20090200985A1/en'}],\n",
              " 'Ti': 'systems and methods for receiving and managing power in wireless devices',\n",
              " 'logprob': -18.683,\n",
              " 'prob': 7.6926539e-09}"
            ]
          },
          "metadata": {
            "tags": []
          },
          "execution_count": 18
        }
      ]
    },
    {
      "cell_type": "markdown",
      "metadata": {
        "id": "_KOOezFb1s9r",
        "colab_type": "text"
      },
      "source": [
        "## By title\n",
        "https://stackoverflow.com/a/43851353/2268280"
      ]
    },
    {
      "cell_type": "code",
      "metadata": {
        "id": "TDpPi1xS3WWa",
        "colab_type": "code",
        "colab": {}
      },
      "source": [
        "#query string lowercase\n",
        "expr=\"Ti='emotion detection for wheelchair navigation enhancement'\"\n",
        "r=get_query(expr,headers)"
      ],
      "execution_count": 0,
      "outputs": []
    },
    {
      "cell_type": "code",
      "metadata": {
        "id": "LW-fYelc5aUp",
        "colab_type": "code",
        "colab": {
          "base_uri": "https://localhost:8080/",
          "height": 1000
        },
        "outputId": "bfbac81b-13e5-41b7-f7b7-913a908dedc3"
      },
      "source": [
        "pd.DataFrame(r.json())['entities'].loc[0]"
      ],
      "execution_count": 21,
      "outputs": [
        {
          "output_type": "execute_result",
          "data": {
            "text/plain": [
              "{'AA': [{'AuId': 277365506, 'AuN': 'hachem a lamti'},\n",
              "  {'AuId': 1528264459, 'AuN': 'mohamed moncef ben khelifa'},\n",
              "  {'AuId': 2130938194, 'AuN': 'adel m alimi'},\n",
              "  {'AuId': 2791423249, 'AuN': 'philippe gorce'}],\n",
              " 'BT': 'a',\n",
              " 'BV': 'Robotica',\n",
              " 'D': '2016-06-01',\n",
              " 'DN': 'Emotion detection for wheelchair navigation enhancement',\n",
              " 'DOI': '10.1017/S0263574714002197',\n",
              " 'E': '{\"DN\":\"Emotion detection for wheelchair navigation enhancement\",\"DOI\":\"10.1017/S0263574714002197\",\"LP\":\"1226\",\"V\":\"34\",\"VFN\":\"Robotica\",\"I\":\"6\",\"FP\":\"1209\",\"PB\":\"Cambridge University Press\",\"PR\":[1705784370,2519256581,2899082325,2549002962,2342595812,2141381813,2011278516,2910553095,2016299781,2795767437,644878130,2970879516,2584985914,2163428110,2601211803,2970498288,2973642144,2265056729,2789762141,2965245384],\"IA\":{\"IndexLength\":159,\"InvertedIndex\":{\"The\":[0,106],\"goal\":[1],\"of\":[2,10,85,122],\"this\":[3,134],\"study\":[4],\"is\":[5,24],\"to\":[6,73,81,149,155],\"investigate\":[7],\"the\":[8,20,68,76,83,126,137,140,156],\"use\":[9],\"emotion\":[11,23,32,86,129],\"as\":[12,87],\"a\":[13,90,101,151],\"braking\":[14],\"system\":[15],\"for\":[16,38,139],\"wheelchair\":[17,97,153],\"navigation.\":[18],\"In\":[19,75],\"first\":[21,127],\"part\":[22],\"detected\":[25],\"based\":[26,109],\"on\":[27,110],\"ElectroEncephalography\":[28],\"(EEG)\":[29],\"technology\":[30],\"and\":[31,42,49,53,63,94,119],\"induction\":[33],\"experiments.\":[34],\"Using\":[35],\"different\":[36],\"techniques\":[37],\"features\":[39],\"extraction\":[40],\"(Welch\":[41],\"Wavelets),\":[43],\"selection\":[44],\"(Principal\":[45],\"Component\":[46],\"Analysis\":[47,66],\"(PCA)\":[48],\"Genetic\":[50],\"Algorithm\":[51],\"(GA))\":[52],\"classification\":[54],\"(Support\":[55],\"Vector\":[56],\"Machine\":[57],\"(SVM),\":[58],\"Multi\":[59],\"Layer\":[60],\"Perceptron\":[61],\"(MLP)\":[62],\"Linear\":[64],\"Discriminate\":[65],\"(LDA)),\":[67],\"best\":[69],\"combination\":[70],\"was\":[71,104,108,135],\"assigned\":[72],\"Wavelets-GA-MLP.\":[74],\"second\":[77],\"part,\":[78],\"in\":[79,100,147],\"order\":[80,148],\"validate\":[82],\"impact\":[84],\"velocity\":[88],\"modulator,\":[89],\"comparison\":[91],\"between\":[92],\"emotion-based\":[93,96],\"non\":[95],\"navigation\":[98,115],\"scenarios\":[99],\"simulated\":[102],\"environment\":[103],\"conducted.\":[105],\"assessment\":[107],\"four\":[111],\"parameters:\":[112],\"obstacles\":[113],\"hit,\":[114],\"path,\":[116],\"execution\":[117],\"time\":[118],\"outbound\":[120],\"points\":[121],\"gaze\":[123],\"(POG).\":[124],\"While\":[125],\"two\":[128],\"introductions\":[130],\"showed\":[131],\"better\":[132],\"results,\":[133],\"not\":[136],\"case\":[138],\"third.\":[141],\"These\":[142],\"findings\":[143],\"can\":[144],\"be\":[145],\"utilized\":[146],\"prescribe\":[150],\"suitable\":[152],\"according\":[154],\"subject\":[157],\"pathology.\":[158]}},\"S\":[{\"Ty\":1,\"U\":\"http://dblp.uni-trier.de/db/journals/robotica/robotica34.html#LamtiKAG16\"},{\"Ty\":1,\"U\":\"https://doi.org/10.1017/S0263574714002197\"},{\"Ty\":1,\"U\":\"https://www.cambridge.org/core/journals/robotica/article/div-classtitleemotion-detection-for-wheelchair-navigation-enhancementdiv/2245E74B370B123D1A3A90E78A4CF5FF\"}],\"ANF\":[{\"FN\":\"Hachem A.\",\"LN\":\"Lamti\",\"S\":1},{\"FN\":\"Mohamed Moncef Ben\",\"LN\":\"Khelifa\",\"S\":2},{\"FN\":\"Adel M.\",\"LN\":\"Alimi\",\"S\":3},{\"FN\":\"Philippe\",\"LN\":\"Gorce\",\"S\":4}],\"BV\":\"Robotica\",\"BT\":\"a\"}',\n",
              " 'FP': '1209',\n",
              " 'I': '6',\n",
              " 'IA': {'IndexLength': 159,\n",
              "  'InvertedIndex': {'(EEG)': [29],\n",
              "   '(GA))': [52],\n",
              "   '(LDA)),': [67],\n",
              "   '(MLP)': [62],\n",
              "   '(PCA)': [48],\n",
              "   '(POG).': [124],\n",
              "   '(Principal': [45],\n",
              "   '(SVM),': [58],\n",
              "   '(Support': [55],\n",
              "   '(Welch': [41],\n",
              "   'Algorithm': [51],\n",
              "   'Analysis': [47, 66],\n",
              "   'Component': [46],\n",
              "   'Discriminate': [65],\n",
              "   'ElectroEncephalography': [28],\n",
              "   'Genetic': [50],\n",
              "   'In': [19, 75],\n",
              "   'Layer': [60],\n",
              "   'Linear': [64],\n",
              "   'Machine': [57],\n",
              "   'Multi': [59],\n",
              "   'Perceptron': [61],\n",
              "   'The': [0, 106],\n",
              "   'These': [142],\n",
              "   'Using': [35],\n",
              "   'Vector': [56],\n",
              "   'Wavelets),': [43],\n",
              "   'Wavelets-GA-MLP.': [74],\n",
              "   'While': [125],\n",
              "   'a': [13, 90, 101, 151],\n",
              "   'according': [154],\n",
              "   'and': [31, 42, 49, 53, 63, 94, 119],\n",
              "   'as': [12, 87],\n",
              "   'assessment': [107],\n",
              "   'assigned': [72],\n",
              "   'based': [26, 109],\n",
              "   'be': [145],\n",
              "   'best': [69],\n",
              "   'better': [132],\n",
              "   'between': [92],\n",
              "   'braking': [14],\n",
              "   'can': [144],\n",
              "   'case': [138],\n",
              "   'classification': [54],\n",
              "   'combination': [70],\n",
              "   'comparison': [91],\n",
              "   'conducted.': [105],\n",
              "   'detected': [25],\n",
              "   'different': [36],\n",
              "   'emotion': [11, 23, 32, 86, 129],\n",
              "   'emotion-based': [93, 96],\n",
              "   'environment': [103],\n",
              "   'execution': [117],\n",
              "   'experiments.': [34],\n",
              "   'extraction': [40],\n",
              "   'features': [39],\n",
              "   'findings': [143],\n",
              "   'first': [21, 127],\n",
              "   'for': [16, 38, 139],\n",
              "   'four': [111],\n",
              "   'gaze': [123],\n",
              "   'goal': [1],\n",
              "   'hit,': [114],\n",
              "   'impact': [84],\n",
              "   'in': [79, 100, 147],\n",
              "   'induction': [33],\n",
              "   'introductions': [130],\n",
              "   'investigate': [7],\n",
              "   'is': [5, 24],\n",
              "   'modulator,': [89],\n",
              "   'navigation': [98, 115],\n",
              "   'navigation.': [18],\n",
              "   'non': [95],\n",
              "   'not': [136],\n",
              "   'obstacles': [113],\n",
              "   'of': [2, 10, 85, 122],\n",
              "   'on': [27, 110],\n",
              "   'order': [80, 148],\n",
              "   'outbound': [120],\n",
              "   'parameters:': [112],\n",
              "   'part': [22],\n",
              "   'part,': [78],\n",
              "   'path,': [116],\n",
              "   'pathology.': [158],\n",
              "   'points': [121],\n",
              "   'prescribe': [150],\n",
              "   'results,': [133],\n",
              "   'scenarios': [99],\n",
              "   'second': [77],\n",
              "   'selection': [44],\n",
              "   'showed': [131],\n",
              "   'simulated': [102],\n",
              "   'study': [4],\n",
              "   'subject': [157],\n",
              "   'suitable': [152],\n",
              "   'system': [15],\n",
              "   'techniques': [37],\n",
              "   'technology': [30],\n",
              "   'the': [8, 20, 68, 76, 83, 126, 137, 140, 156],\n",
              "   'third.': [141],\n",
              "   'this': [3, 134],\n",
              "   'time': [118],\n",
              "   'to': [6, 73, 81, 149, 155],\n",
              "   'two': [128],\n",
              "   'use': [9],\n",
              "   'utilized': [146],\n",
              "   'validate': [82],\n",
              "   'velocity': [88],\n",
              "   'was': [71, 104, 108, 135],\n",
              "   'wheelchair': [17, 97, 153]}},\n",
              " 'Id': 2085736170,\n",
              " 'LP': '1226',\n",
              " 'PB': 'Cambridge University Press',\n",
              " 'S': [{'Ty': 1,\n",
              "   'U': 'http://dblp.uni-trier.de/db/journals/robotica/robotica34.html#LamtiKAG16'},\n",
              "  {'Ty': 1, 'U': 'https://doi.org/10.1017/S0263574714002197'},\n",
              "  {'Ty': 1,\n",
              "   'U': 'https://www.cambridge.org/core/journals/robotica/article/div-classtitleemotion-detection-for-wheelchair-navigation-enhancementdiv/2245E74B370B123D1A3A90E78A4CF5FF'}],\n",
              " 'Ti': 'emotion detection for wheelchair navigation enhancement',\n",
              " 'V': '34',\n",
              " 'VFN': 'Robotica',\n",
              " 'logprob': -20.578,\n",
              " 'prob': 1.1563469e-09}"
            ]
          },
          "metadata": {
            "tags": []
          },
          "execution_count": 21
        }
      ]
    },
    {
      "cell_type": "code",
      "metadata": {
        "id": "6VL8u6X65cY4",
        "colab_type": "code",
        "colab": {}
      },
      "source": [
        ""
      ],
      "execution_count": 0,
      "outputs": []
    }
  ]
}