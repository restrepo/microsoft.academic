{
  "nbformat": 4,
  "nbformat_minor": 0,
  "metadata": {
    "kernelspec": {
      "display_name": "Python 3",
      "language": "python",
      "name": "python3"
    },
    "language_info": {
      "codemirror_mode": {
        "name": "ipython",
        "version": 3
      },
      "file_extension": ".py",
      "mimetype": "text/x-python",
      "name": "python",
      "nbconvert_exporter": "python",
      "pygments_lexer": "ipython3",
      "version": "3.5.3"
    },
    "latex_envs": {
      "LaTeX_envs_menu_present": true,
      "autoclose": false,
      "autocomplete": true,
      "bibliofile": "biblio.bib",
      "cite_by": "apalike",
      "current_citInitial": 1,
      "eqLabelWithNumbers": true,
      "eqNumInitial": 1,
      "hotkeys": {
        "equation": "Ctrl-E",
        "itemize": "Ctrl-I"
      },
      "labels_anchors": false,
      "latex_user_defs": false,
      "report_style_numbering": false,
      "user_envs_cfg": false
    },
    "colab": {
      "name": "MicrosoftAcademic.ipynb",
      "provenance": [],
      "include_colab_link": true
    }
  },
  "cells": [
    {
      "cell_type": "markdown",
      "metadata": {
        "id": "view-in-github",
        "colab_type": "text"
      },
      "source": [
        "<a href=\"https://colab.research.google.com/github/restrepo/microsoft.academic/blob/master/MicrosoftAcademic.ipynb\" target=\"_parent\"><img src=\"https://colab.research.google.com/assets/colab-badge.svg\" alt=\"Open In Colab\"/></a>"
      ]
    },
    {
      "cell_type": "markdown",
      "metadata": {
        "id": "y5OYOqMi1s9Y",
        "colab_type": "text"
      },
      "source": [
        "# Microsoft academic API"
      ]
    },
    {
      "cell_type": "code",
      "metadata": {
        "id": "dYoqM5B01s9a",
        "colab_type": "code",
        "colab": {}
      },
      "source": [
        "import requests\n",
        "import pandas as pd\n",
        "import getpass"
      ],
      "execution_count": 0,
      "outputs": []
    },
    {
      "cell_type": "markdown",
      "metadata": {
        "id": "jc7xeYZl1s9e",
        "colab_type": "text"
      },
      "source": [
        "See: https://stackoverflow.com/a/56313385/2268280\n",
        "\n",
        "Notice the author name has to be in lowercase. <!--a0b4184dcd024090905c5e659ae3f57d-->"
      ]
    },
    {
      "cell_type": "code",
      "metadata": {
        "id": "45ExCUWG1s9f",
        "colab_type": "code",
        "colab": {
          "base_uri": "https://localhost:8080/",
          "height": 35
        },
        "outputId": "dfc1f375-7b73-4e59-a0aa-2feedcf6348d"
      },
      "source": [
        "key=getpass.getpass('API KEY:')"
      ],
      "execution_count": 2,
      "outputs": [
        {
          "output_type": "stream",
          "text": [
            "API KEY:··········\n"
          ],
          "name": "stdout"
        }
      ]
    },
    {
      "cell_type": "code",
      "metadata": {
        "id": "0f9fH1hu1s9j",
        "colab_type": "code",
        "colab": {}
      },
      "source": [
        "headers = {\n",
        "    # Request headers\n",
        "    'Ocp-Apim-Subscription-Key': key,\n",
        "}"
      ],
      "execution_count": 0,
      "outputs": []
    },
    {
      "cell_type": "code",
      "metadata": {
        "id": "al1qNUQS1s9l",
        "colab_type": "code",
        "colab": {}
      },
      "source": [
        "url='https://api.labs.cognitive.microsoft.com/academic/v1.0'\n",
        "expr=\"Composite(AA.AuN=='diego restrepo')\" #must be in lowercase!\n",
        "r=requests.get(\n",
        "    \"{}/evaluate?model=latest&count=100&expr={}&attributes=Id,Ti,AA.AuN,E,AA.AuId\".format(\n",
        "        url,expr),headers=headers)"
      ],
      "execution_count": 0,
      "outputs": []
    },
    {
      "cell_type": "code",
      "metadata": {
        "id": "IkGL87661s9o",
        "colab_type": "code",
        "colab": {
          "base_uri": "https://localhost:8080/",
          "height": 1000
        },
        "outputId": "cd760c28-d986-487f-99f6-09c3274809e0"
      },
      "source": [
        "pd.DataFrame(r.json())['entities'].loc[0]"
      ],
      "execution_count": 5,
      "outputs": [
        {
          "output_type": "execute_result",
          "data": {
            "text/plain": [
              "{'AA': [{'AuId': 2059928040, 'AuN': 'regan zane'},\n",
              "  {'AuId': 2169908048, 'AuN': 'zoya popovic'},\n",
              "  {'AuId': 2162383647, 'AuN': 'andrew sharp'},\n",
              "  {'AuId': 2110103959, 'AuN': 'diego restrepo'}],\n",
              " 'D': '2006-10-23',\n",
              " 'DN': 'Systems and methods for receiving and managing power in wireless devices',\n",
              " 'E': '{\"DN\":\"Systems and methods for receiving and managing power in wireless devices\",\"PR\":[1946234591,1943779733,1942907069,1921420136,1913068190,1892630210,1878309728,1855976111,1852708506,1850993511,1785369456,1711441070,1592823121,1582146746,1568109496,1551290223,1523428978,1519407428,1494741381,960296097],\"IA\":{\"IndexLength\":142,\"InvertedIndex\":{\"Exemplary\":[0,51],\"systems\":[1,52],\"and\":[2,53,75,93],\"methods\":[3,54],\"are\":[4,55],\"provided\":[5,56],\"for\":[6,57],\"collecting/harvesting\":[7],\"direct\":[8],\"current\":[9],\"(DC)\":[10],\"power\":[11,15,23,27,42,49,73,118,133],\"received\":[12],\"from\":[13,135],\"a\":[14,20,26,32,45,72,76,112,130],\"source(s).\":[16],\"The\":[17,80,117],\"system\":[18,65],\"comprises\":[19,25,66],\"controlled\":[21],\"impedance\":[22],\"controller\":[24,119],\"converter\":[28],\"configured\":[29,99,121],\"to\":[30,37,100,122,128],\"present\":[31],\"positive\":[33],\"equivalent\":[34],\"resistive\":[35],\"load\":[36],\"the\":[38,87,94,103,124,136],\"at\":[39,67,88,104,137],\"least\":[40,68,89,105,138],\"one\":[41,110],\"source\":[43],\"over\":[44],\"range\":[46],\"of\":[47,111,114],\"input\":[48],\"levels.\":[50],\"collecting\":[58],\"radio\":[59],\"frequency\":[60],\"(RF)\":[61],\"power.\":[62],\"An\":[63],\"exemplary\":[64],\"two\":[69,90,106,139],\"rectenna\":[70,91,107,140],\"elements,\":[71],\"controller,\":[74],\"DC\":[77,81,95,125],\"combining\":[78,82,96,126],\"circuit.\":[79],\"circuit\":[83,97,127],\"is\":[84,98,120],\"associated\":[85],\"with\":[86],\"elements\":[92,108],\"dynamically\":[101],\"combine\":[102],\"in\":[109],\"plurality\":[113],\"series/parallel\":[115],\"configurations.\":[116],\"control\":[123],\"achieve\":[129],\"desired\":[131],\"overall\":[132],\"output\":[134],\"elements.\":[141]}},\"S\":[{\"Ty\":999,\"U\":\"http://www.freepatentsonline.com/EP1949309.html\"},{\"Ty\":999,\"U\":\"https://lens.org/074-827-948-874-539\"},{\"Ty\":1,\"U\":\"http://www.freepatentsonline.com/7956572.html\"},{\"Ty\":1,\"U\":\"https://patents.google.com/patent/US20090200985A1/en\"}],\"ANF\":[{\"FN\":\"Regan\",\"LN\":\"Zane\",\"S\":1},{\"FN\":\"Zoya\",\"LN\":\"Popovic\",\"S\":2},{\"FN\":\"Andrew\",\"LN\":\"Sharp\",\"S\":3},{\"FN\":\"Diego\",\"LN\":\"Restrepo\",\"S\":4}]}',\n",
              " 'IA': {'IndexLength': 142,\n",
              "  'InvertedIndex': {'(DC)': [10],\n",
              "   '(RF)': [61],\n",
              "   'An': [63],\n",
              "   'DC': [77, 81, 95, 125],\n",
              "   'Exemplary': [0, 51],\n",
              "   'The': [17, 80, 117],\n",
              "   'a': [14, 20, 26, 32, 45, 72, 76, 112, 130],\n",
              "   'achieve': [129],\n",
              "   'and': [2, 53, 75, 93],\n",
              "   'are': [4, 55],\n",
              "   'associated': [85],\n",
              "   'at': [39, 67, 88, 104, 137],\n",
              "   'circuit': [83, 97, 127],\n",
              "   'circuit.': [79],\n",
              "   'collecting': [58],\n",
              "   'collecting/harvesting': [7],\n",
              "   'combine': [102],\n",
              "   'combining': [78, 82, 96, 126],\n",
              "   'comprises': [19, 25, 66],\n",
              "   'configurations.': [116],\n",
              "   'configured': [29, 99, 121],\n",
              "   'control': [123],\n",
              "   'controlled': [21],\n",
              "   'controller': [24, 119],\n",
              "   'controller,': [74],\n",
              "   'converter': [28],\n",
              "   'current': [9],\n",
              "   'desired': [131],\n",
              "   'direct': [8],\n",
              "   'dynamically': [101],\n",
              "   'elements': [92, 108],\n",
              "   'elements,': [71],\n",
              "   'elements.': [141],\n",
              "   'equivalent': [34],\n",
              "   'exemplary': [64],\n",
              "   'for': [6, 57],\n",
              "   'frequency': [60],\n",
              "   'from': [13, 135],\n",
              "   'impedance': [22],\n",
              "   'in': [109],\n",
              "   'input': [48],\n",
              "   'is': [84, 98, 120],\n",
              "   'least': [40, 68, 89, 105, 138],\n",
              "   'levels.': [50],\n",
              "   'load': [36],\n",
              "   'methods': [3, 54],\n",
              "   'of': [47, 111, 114],\n",
              "   'one': [41, 110],\n",
              "   'output': [134],\n",
              "   'over': [44],\n",
              "   'overall': [132],\n",
              "   'plurality': [113],\n",
              "   'positive': [33],\n",
              "   'power': [11, 15, 23, 27, 42, 49, 73, 118, 133],\n",
              "   'power.': [62],\n",
              "   'present': [31],\n",
              "   'provided': [5, 56],\n",
              "   'radio': [59],\n",
              "   'range': [46],\n",
              "   'received': [12],\n",
              "   'rectenna': [70, 91, 107, 140],\n",
              "   'resistive': [35],\n",
              "   'series/parallel': [115],\n",
              "   'source': [43],\n",
              "   'source(s).': [16],\n",
              "   'system': [18, 65],\n",
              "   'systems': [1, 52],\n",
              "   'the': [38, 87, 94, 103, 124, 136],\n",
              "   'to': [30, 37, 100, 122, 128],\n",
              "   'two': [69, 90, 106, 139],\n",
              "   'with': [86]}},\n",
              " 'Id': 1786502805,\n",
              " 'S': [{'Ty': 999, 'U': 'http://www.freepatentsonline.com/EP1949309.html'},\n",
              "  {'Ty': 999, 'U': 'https://lens.org/074-827-948-874-539'},\n",
              "  {'Ty': 1, 'U': 'http://www.freepatentsonline.com/7956572.html'},\n",
              "  {'Ty': 1, 'U': 'https://patents.google.com/patent/US20090200985A1/en'}],\n",
              " 'Ti': 'systems and methods for receiving and managing power in wireless devices',\n",
              " 'logprob': -18.683,\n",
              " 'prob': 7.6926539e-09}"
            ]
          },
          "metadata": {
            "tags": []
          },
          "execution_count": 5
        }
      ]
    },
    {
      "cell_type": "code",
      "metadata": {
        "id": "_KOOezFb1s9r",
        "colab_type": "code",
        "colab": {}
      },
      "source": [
        ""
      ],
      "execution_count": 0,
      "outputs": []
    }
  ]
}